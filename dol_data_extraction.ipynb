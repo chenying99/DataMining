{
  "nbformat": 4,
  "nbformat_minor": 0,
  "metadata": {
    "colab": {
      "name": "dol_data_extraction.ipynb",
      "version": "0.3.2",
      "provenance": [],
      "collapsed_sections": [],
      "include_colab_link": true
    },
    "kernelspec": {
      "name": "python3",
      "display_name": "Python 3"
    }
  },
  "cells": [
    {
      "cell_type": "markdown",
      "metadata": {
        "id": "view-in-github",
        "colab_type": "text"
      },
      "source": [
        "[View in Colaboratory](https://colab.research.google.com/github/kanvesh/DataMining/blob/master/dol_data_extraction.ipynb)"
      ]
    },
    {
      "metadata": {
        "id": "tk3hUA0g_Xwu",
        "colab_type": "code",
        "colab": {}
      },
      "cell_type": "code",
      "source": [
        "import pandas as pd\n",
        "import requests\n",
        "import zipfile\n",
        "import os\n",
        "!mkdir -p dol_data_files"
      ],
      "execution_count": 0,
      "outputs": []
    },
    {
      "metadata": {
        "id": "34WizFt9LdxX",
        "colab_type": "code",
        "colab": {}
      },
      "cell_type": "code",
      "source": [
        "def download_zip(url, filename='temp.zip'):\n",
        "  r = requests.get(url)\n",
        "  with open(filename, 'wb') as f:  \n",
        "    f.write(r.content)\n",
        "  "
      ],
      "execution_count": 0,
      "outputs": []
    },
    {
      "metadata": {
        "id": "PdDnnbeFMAH9",
        "colab_type": "code",
        "colab": {}
      },
      "cell_type": "code",
      "source": [
        "def read_csv_within_zip(url, filename='temp.zip'):\n",
        "  download_zip(url, filename)\n",
        "  with zipfile.ZipFile(filename) as z:\n",
        "    print('List of files in zip:',z.namelist())\n",
        "    print('CSV file:', z.namelist()[0])\n",
        "    with z.open(z.namelist()[0]) as f:\n",
        "      df = pd.read_csv(f, header=0, delimiter=\"\\t\")\n",
        "  \n",
        "  return df"
      ],
      "execution_count": 0,
      "outputs": []
    },
    {
      "metadata": {
        "colab_type": "code",
        "colab": {
          "base_uri": "https://localhost:8080/",
          "height": 34
        },
        "outputId": "35a314ec-fdc7-4a97-932a-ea83b91a9f0a",
        "id": "XTahGvVbQr0c"
      },
      "cell_type": "code",
      "source": [
        "from urllib.request import urlopen\n",
        "from bs4 import BeautifulSoup\n",
        "\n",
        "html = urlopen(\"https://www.dol.gov/agencies/ebsa/about-ebsa/our-activities/public-disclosure/foia/form-5500-datasets\") # Insert your URL to extract\n",
        "bsObj = BeautifulSoup(html.read());\n",
        "\n",
        "for link in bsObj.find_all('a', href=True):\n",
        "  link_href = link.get('href')\n",
        "  if link_href.endswith('.zip') and link_href.startswith('http'):\n",
        "    r = requests.get(link_href)\n",
        "    filename = url.split('/')[-1]\n",
        "    print(link_href)\n",
        "    with open(filename, 'wb') as f:  \n",
        "      f.write(r.content)\n",
        "    with zipfile.ZipFile(filename,\"r\") as zip_ref:\n",
        "      zip_ref.extractall('dol_data_files')\n",
        "!rm *.zip"
      ],
      "execution_count": 33,
      "outputs": [
        {
          "output_type": "stream",
          "text": [
            "http://askebsa.dol.gov/FOIA%20Files/2017/Latest/F_5500_2017_Latest.zip\n"
          ],
          "name": "stdout"
        }
      ]
    },
    {
      "metadata": {
        "id": "_Sh51leq1iDu",
        "colab_type": "code",
        "colab": {
          "base_uri": "https://localhost:8080/",
          "height": 34
        },
        "outputId": "5c73d27f-0e62-4045-8db1-10c058bb2ab5"
      },
      "cell_type": "code",
      "source": [
        "!ls"
      ],
      "execution_count": 34,
      "outputs": [
        {
          "output_type": "stream",
          "text": [
            "dol_data_files\tsample_data\n"
          ],
          "name": "stdout"
        }
      ]
    },
    {
      "metadata": {
        "id": "DNVDWRwI0m3O",
        "colab_type": "code",
        "colab": {
          "base_uri": "https://localhost:8080/",
          "height": 50
        },
        "outputId": "ac4e66d9-2a67-4cb4-a669-f8346af38509"
      },
      "cell_type": "code",
      "source": [
        "!ls dol_data_files/*"
      ],
      "execution_count": 35,
      "outputs": [
        {
          "output_type": "stream",
          "text": [
            "dol_data_files/f_5500_2017_latest.csv\n",
            "dol_data_files/f_5500_2017_latest_layout.txt\n"
          ],
          "name": "stdout"
        }
      ]
    },
    {
      "metadata": {
        "id": "Tr1BUhuJyU7F",
        "colab_type": "text"
      },
      "cell_type": "markdown",
      "source": [
        ""
      ]
    },
    {
      "metadata": {
        "id": "EFfwjuGfAA2b",
        "colab_type": "code",
        "colab": {
          "base_uri": "https://localhost:8080/",
          "height": 171
        },
        "outputId": "3fbeb229-821e-4245-a064-23978424d2c7"
      },
      "cell_type": "code",
      "source": [
        "#ith zipfile.ZipFile(\"F_5500_2017_Latest.zip\") as z:\n",
        "#  print(dir(z))\n",
        "#  print(z.namelist())\n",
        "#  with z.open(\"f_5500_2017_latest.csv\") as f:\n",
        "#     train = pd.read_csv(f, header=0, delimiter=\"\\t\")\n",
        "#     print(train.head())    # print the first 5 rows"
      ],
      "execution_count": 29,
      "outputs": [
        {
          "output_type": "stream",
          "text": [
            "['NameToInfo', '_RealGetContents', '__class__', '__del__', '__delattr__', '__dict__', '__dir__', '__doc__', '__enter__', '__eq__', '__exit__', '__format__', '__ge__', '__getattribute__', '__gt__', '__hash__', '__init__', '__init_subclass__', '__le__', '__lt__', '__module__', '__ne__', '__new__', '__reduce__', '__reduce_ex__', '__repr__', '__setattr__', '__sizeof__', '__str__', '__subclasshook__', '__weakref__', '_allowZip64', '_comment', '_didModify', '_extract_member', '_filePassed', '_fileRefCnt', '_fpclose', '_lock', '_open_to_write', '_sanitize_windows_name', '_seekable', '_windows_illegal_name_trans_table', '_write_end_record', '_writecheck', '_writing', 'close', 'comment', 'compression', 'debug', 'extract', 'extractall', 'filelist', 'filename', 'fp', 'getinfo', 'infolist', 'mode', 'namelist', 'open', 'printdir', 'pwd', 'read', 'setpassword', 'start_dir', 'testzip', 'write', 'writestr']\n",
            "['f_5500_2017_latest.csv', 'f_5500_2017_latest_layout.txt']\n",
            "  ACK_ID,FORM_PLAN_YEAR_BEGIN_DATE,FORM_TAX_PRD,TYPE_PLAN_ENTITY_CD,TYPE_DFE_PLAN_ENTITY_CD,INITIAL_FILING_IND,AMENDED_IND,FINAL_FILING_IND,SHORT_PLAN_YR_IND,COLLECTIVE_BARGAIN_IND,F5558_APPLICATION_FILED_IND,EXT_AUTOMATIC_IND,DFVC_PROGRAM_IND,EXT_SPECIAL_IND,EXT_SPECIAL_TEXT,PLAN_NAME,SPONS_DFE_PN,PLAN_EFF_DATE,SPONSOR_DFE_NAME,SPONS_DFE_DBA_NAME,SPONS_DFE_CARE_OF_NAME,SPONS_DFE_MAIL_US_ADDRESS1,SPONS_DFE_MAIL_US_ADDRESS2,SPONS_DFE_MAIL_US_CITY,SPONS_DFE_MAIL_US_STATE,SPONS_DFE_MAIL_US_ZIP,SPONS_DFE_MAIL_FOREIGN_ADDR1,SPONS_DFE_MAIL_FOREIGN_ADDR2,SPONS_DFE_MAIL_FOREIGN_CITY,SPONS_DFE_MAIL_FORGN_PROV_ST,SPONS_DFE_MAIL_FOREIGN_CNTRY,SPONS_DFE_MAIL_FORGN_POSTAL_CD,SPONS_DFE_LOC_US_ADDRESS1,SPONS_DFE_LOC_US_ADDRESS2,SPONS_DFE_LOC_US_CITY,SPONS_DFE_LOC_US_STATE,SPONS_DFE_LOC_US_ZIP,SPONS_DFE_LOC_FOREIGN_ADDRESS1,SPONS_DFE_LOC_FOREIGN_ADDRESS2,SPONS_DFE_LOC_FOREIGN_CITY,SPONS_DFE_LOC_FORGN_PROV_ST,SPONS_DFE_LOC_FOREIGN_CNTRY,SPONS_DFE_LOC_FORGN_POSTAL_CD,SPONS_DFE_EIN,SPONS_DFE_PHONE_NUM,BUSINESS_CODE,ADMIN_NAME,ADMIN_CARE_OF_NAME,ADMIN_US_ADDRESS1,ADMIN_US_ADDRESS2,ADMIN_US_CITY,ADMIN_US_STATE,ADMIN_US_ZIP,ADMIN_FOREIGN_ADDRESS1,ADMIN_FOREIGN_ADDRESS2,ADMIN_FOREIGN_CITY,ADMIN_FOREIGN_PROV_STATE,ADMIN_FOREIGN_CNTRY,ADMIN_FOREIGN_POSTAL_CD,ADMIN_EIN,ADMIN_PHONE_NUM,LAST_RPT_SPONS_NAME,LAST_RPT_SPONS_EIN,LAST_RPT_PLAN_NUM,ADMIN_SIGNED_DATE,ADMIN_SIGNED_NAME,SPONS_SIGNED_DATE,SPONS_SIGNED_NAME,DFE_SIGNED_DATE,DFE_SIGNED_NAME,TOT_PARTCP_BOY_CNT,TOT_ACTIVE_PARTCP_CNT,RTD_SEP_PARTCP_RCVG_CNT,RTD_SEP_PARTCP_FUT_CNT,SUBTL_ACT_RTD_SEP_CNT,BENEF_RCVG_BNFT_CNT,TOT_ACT_RTD_SEP_BENEF_CNT,PARTCP_ACCOUNT_BAL_CNT,SEP_PARTCP_PARTL_VSTD_CNT,CONTRIB_EMPLRS_CNT,TYPE_PENSION_BNFT_CODE,TYPE_WELFARE_BNFT_CODE,FUNDING_INSURANCE_IND,FUNDING_SEC412_IND,FUNDING_TRUST_IND,FUNDING_GEN_ASSET_IND,BENEFIT_INSURANCE_IND,BENEFIT_SEC412_IND,BENEFIT_TRUST_IND,BENEFIT_GEN_ASSET_IND,SCH_R_ATTACHED_IND,SCH_MB_ATTACHED_IND,SCH_SB_ATTACHED_IND,SCH_H_ATTACHED_IND,SCH_I_ATTACHED_IND,SCH_A_ATTACHED_IND,NUM_SCH_A_ATTACHED_CNT,SCH_C_ATTACHED_IND,SCH_D_ATTACHED_IND,SCH_G_ATTACHED_IND,FILING_STATUS,DATE_RECEIVED,VALID_ADMIN_SIGNATURE,VALID_DFE_SIGNATURE,VALID_SPONSOR_SIGNATURE,ADMIN_PHONE_NUM_FOREIGN,SPONS_DFE_PHONE_NUM_FOREIGN,ADMIN_NAME_SAME_SPON_IND,ADMIN_ADDRESS_SAME_SPON_IND,PREPARER_NAME,PREPARER_FIRM_NAME,PREPARER_US_ADDRESS1,PREPARER_US_ADDRESS2,PREPARER_US_CITY,PREPARER_US_STATE,PREPARER_US_ZIP,PREPARER_FOREIGN_ADDRESS1,PREPARER_FOREIGN_ADDRESS2,PREPARER_FOREIGN_CITY,PREPARER_FOREIGN_PROV_STATE,PREPARER_FOREIGN_CNTRY,PREPARER_FOREIGN_POSTAL_CD,PREPARER_PHONE_NUM,PREPARER_PHONE_NUM_FOREIGN,TOT_ACT_PARTCP_BOY_CNT,SUBJ_M1_FILING_REQ_IND,COMPLIANCE_M1_FILING_REQ_IND,M1_RECEIPT_CONFIRMATION_CODE,ADMIN_MANUAL_SIGNED_DATE,ADMIN_MANUAL_SIGNED_NAME,LAST_RPT_PLAN_NAME,SPONS_MANUAL_SIGNED_DATE,SPONS_MANUAL_SIGNED_NAME,DFE_MANUAL_SIGNED_DATE,DFE_MANUAL_SIGNED_NAME\n",
            "0  20180108165816P040016229121001,\"2017-01-01\",\"2...                                                                                                                                                                                                                                                                                                                                                                                                                                                                                                                                                                                                                                                                                                                                                                                                                                                                                                                                                                                                                                                                                                                                                                                                                                                                                                                                                                                                                                                                                                                                                                                                                                                                                                                                                                                                                                                                                                                                                                                                                                                                                                                                                                                                                                                                                                                                                                                                                                                                                                                                                                                                                                                                                                                                                                                                                                                                                                                        \n",
            "1  20180105073240P030003707789001,\"2017-01-01\",\"2...                                                                                                                                                                                                                                                                                                                                                                                                                                                                                                                                                                                                                                                                                                                                                                                                                                                                                                                                                                                                                                                                                                                                                                                                                                                                                                                                                                                                                                                                                                                                                                                                                                                                                                                                                                                                                                                                                                                                                                                                                                                                                                                                                                                                                                                                                                                                                                                                                                                                                                                                                                                                                                                                                                                                                                                                                                                                                                                        \n",
            "2  20180222150037P030004444917001,\"2017-01-01\",\"2...                                                                                                                                                                                                                                                                                                                                                                                                                                                                                                                                                                                                                                                                                                                                                                                                                                                                                                                                                                                                                                                                                                                                                                                                                                                                                                                                                                                                                                                                                                                                                                                                                                                                                                                                                                                                                                                                                                                                                                                                                                                                                                                                                                                                                                                                                                                                                                                                                                                                                                                                                                                                                                                                                                                                                                                                                                                                                                                        \n",
            "3  20180222150302P040068242109001,\"2017-01-01\",\"2...                                                                                                                                                                                                                                                                                                                                                                                                                                                                                                                                                                                                                                                                                                                                                                                                                                                                                                                                                                                                                                                                                                                                                                                                                                                                                                                                                                                                                                                                                                                                                                                                                                                                                                                                                                                                                                                                                                                                                                                                                                                                                                                                                                                                                                                                                                                                                                                                                                                                                                                                                                                                                                                                                                                                                                                                                                                                                                                        \n",
            "4  20180222150424P040038458351001,\"2017-01-01\",\"2...                                                                                                                                                                                                                                                                                                                                                                                                                                                                                                                                                                                                                                                                                                                                                                                                                                                                                                                                                                                                                                                                                                                                                                                                                                                                                                                                                                                                                                                                                                                                                                                                                                                                                                                                                                                                                                                                                                                                                                                                                                                                                                                                                                                                                                                                                                                                                                                                                                                                                                                                                                                                                                                                                                                                                                                                                                                                                                                        \n"
          ],
          "name": "stdout"
        }
      ]
    }
  ]
}